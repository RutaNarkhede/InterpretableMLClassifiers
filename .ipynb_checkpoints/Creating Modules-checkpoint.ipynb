{
 "cells": [
  {
   "cell_type": "markdown",
   "id": "fd4ca773",
   "metadata": {},
   "source": [
    "# Creating the mcless module"
   ]
  },
  {
   "cell_type": "markdown",
   "id": "2c8ad6ef",
   "metadata": {},
   "source": [
    "### Information matrix"
   ]
  },
  {
   "cell_type": "markdown",
   "id": "0621ff84",
   "metadata": {},
   "source": [
    "Create a module named Infomatrix which contains 2 files:\n",
    "1. \\_\\_init\\_\\_.py\n",
    "2. Information_matrix.py\n",
    "\n",
    "In Information_matrix we will write the code to augument the data matrix by columns of 1s in the left side of the matrix"
   ]
  },
  {
   "cell_type": "markdown",
   "id": "81572dce",
   "metadata": {},
   "source": [
    "### Source Matrix"
   ]
  },
  {
   "cell_type": "markdown",
   "id": "1234dd0d",
   "metadata": {},
   "source": [
    "Create a module named srcmatrix which contains 2 files:\n",
    "\n",
    "1. \\_\\_init\\_\\_.py\n",
    "2. Source_matrix.py\n",
    "\n",
    "In the Source_matrix we will write the code to get the source matrix from the labels of the data."
   ]
  },
  {
   "cell_type": "markdown",
   "id": "1f5d74ac",
   "metadata": {},
   "source": [
    "## mcless "
   ]
  },
  {
   "cell_type": "markdown",
   "id": "cc7bfdba",
   "metadata": {},
   "source": [
    "Create a module named mcless which contains 3 files:\n",
    "    \n",
    "1. \\_\\_init\\_\\_.py\n",
    "2. Calculate_W.py\n",
    "3. mCLESS.py\n",
    "\n",
    "### Calculate_W.py\n",
    "The least squares method is formulated as\n",
    "\n",
    "$$\\widehat{W}=\\underset{W}{\\text{argmin}} ||AW-B||$$\n",
    "\n",
    "I wrote 2 functions in Calculate_W.py\n",
    "\n",
    "1. calculate_W_by_svd()\n",
    "\n",
    "Using Singular Value Decomposition, the least sqaures solution is \n",
    "\n",
    "$$x = \\sum_{i=1}^r \\frac{u_{i}b}{\\sigma_i}v_i$$\n",
    "\n",
    "In Calculate_w.py , we calculte the weight matrix using SVD for least squares method which is formulated as \n",
    "\n",
    "We can decompose $A = U\\Sigma V^{T}$.\n",
    "So, we get W using the above method as,\n",
    "\n",
    "$$ W = \\sum_{i=1}^r \\frac{u_{i}b}{\\sigma_i}v_i$$\n",
    "\n",
    "\n",
    "2. calculate_W_by_normal()\n",
    "\n",
    "This function calculates W by method of normal equations\n",
    "\n",
    "$$(A^T A)\\widehat W=A^T B$$\n",
    "So $$\\widehat W=(A^T A)^{-1}A^T B$$\n",
    "\n",
    "Since the solutions by both methods were the same for all the datasets in this experiments, only calculate_W_by_normal() is used for all experiments.\n",
    "\n",
    "\n",
    "### mCLESS.py\n",
    "This file contains the fit(), predict(), and score() methods for the mCLESS class. We give our train set to fit() method to calculte the $\\widehat W$. Then the classes are predicted using the predict() method for the test set. score() method will calculate the accuracy of the prediction of the model based on given labels using confusion matrix.\n"
   ]
  },
  {
   "cell_type": "markdown",
   "id": "b4c3153e",
   "metadata": {},
   "source": [
    "## Following Documents are the attached codes for the above mentioned files :"
   ]
  },
  {
   "cell_type": "code",
   "execution_count": null,
   "id": "e5f89e4b",
   "metadata": {},
   "outputs": [],
   "source": []
  }
 ],
 "metadata": {
  "kernelspec": {
   "display_name": "Python 3 (ipykernel)",
   "language": "python",
   "name": "python3"
  },
  "language_info": {
   "codemirror_mode": {
    "name": "ipython",
    "version": 3
   },
   "file_extension": ".py",
   "mimetype": "text/x-python",
   "name": "python",
   "nbconvert_exporter": "python",
   "pygments_lexer": "ipython3",
   "version": "3.9.7"
  }
 },
 "nbformat": 4,
 "nbformat_minor": 5
}
