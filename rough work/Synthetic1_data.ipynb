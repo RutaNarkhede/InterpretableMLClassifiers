{
 "cells": [
  {
   "cell_type": "code",
   "execution_count": 1,
   "id": "0aead9ee",
   "metadata": {},
   "outputs": [],
   "source": [
    "import numpy as np\n",
    "import matplotlib.pyplot as plt\n",
    "from GLOBAL_VARIABLES1 import *\n",
    "\n",
    "\n",
    "def generate_data(n,scale,theta):\n",
    "    # Normally distributed around the origin\n",
    "    x = np.random.normal(0,1, n); y = np.random.normal(0,1, n)\n",
    "    P = np.vstack((x, y)).T\n",
    "    # Transform\n",
    "    sx,sy = scale\n",
    "    S = np.array([[sx,0],[0,sy]])\n",
    "    c,s = np.cos(theta), np.sin(theta)\n",
    "    R = np.array([[c,-s],[s,c]]).T #T, due to right multiplication\n",
    "    return P.dot(S).dot(R)\n",
    "\n",
    "def synthetic_data():\n",
    "    N=0\n",
    "    plt.figure()\n",
    "    for i in range(N_CLASS):\n",
    "        scale = SCALE[i]\n",
    "        theta = THETA[i]\n",
    "        N+=N_D1\n",
    "        D1 = generate_data(N_D1,scale,theta) +TRANS[i]\n",
    "        D1 = np.column_stack((D1,i*np.ones([N_D1,1])))\n",
    "        if i==0:\n",
    "            DATA = D1\n",
    "        else: \n",
    "            DATA = np.row_stack((DATA,D1))\n",
    "        plt.scatter(D1[:,0],D1[:,1],s=15,c=COLOR[i],marker=MARKER[i])\n",
    "\n",
    "    np.savetxt(DAT_FILENAME,DATA,delimiter=',',fmt=FORMAT)\n",
    "    print(' saved: %s' %(DAT_FILENAME))\n",
    "\n",
    "    #xmin,xmax = np.min(DATA[:,0]), np.max(DATA[:,0])\n",
    "    ymin,ymax = np.min(DATA[:,1]), np.max(DATA[:,1])\n",
    "    plt.ylim([int(ymin)-1,int(ymax)+1])\n",
    "\n",
    "    plt.title('Synthetic Data: N = '+str(N))\n",
    "    myfigsave(FIG_FILENAME)\n",
    "    \n",
    "    return DATA\n",
    "    \n",
    "    #if __name__ == '__main__':\n",
    "    #    plt.show(block=False); plt.pause(5)\n",
    "    #\n",
    "    #if __name__ == '__main__':\n",
    "    #    synthetic_data()"
   ]
  },
  {
   "cell_type": "code",
   "execution_count": 2,
   "id": "c36d0fc1",
   "metadata": {},
   "outputs": [
    {
     "name": "stdout",
     "output_type": "stream",
     "text": [
      " saved: synthetic1.data\n",
      " saved: synthetic1-data.png\n"
     ]
    },
    {
     "data": {
      "image/png": "[encoded data removed]",
      "text/plain": [
       "<Figure size 432x288 with 1 Axes>"
      ]
     },
     "metadata": {
      "needs_background": "light"
     },
     "output_type": "display_data"
    }
   ],
   "source": [
    "data =synthetic_data()"
   ]
  },
  {
   "cell_type": "code",
   "execution_count": 3,
   "id": "6cfe6f5a",
   "metadata": {},
   "outputs": [],
   "source": [
    "X = np.array(data[:,0:2])"
   ]
  },
  {
   "cell_type": "code",
   "execution_count": 4,
   "id": "bdd904d8",
   "metadata": {},
   "outputs": [
    {
     "data": {
      "text/plain": [
       "(300, 2)"
      ]
     },
     "execution_count": 4,
     "metadata": {},
     "output_type": "execute_result"
    }
   ],
   "source": [
    "X.shape"
   ]
  },
  {
   "cell_type": "code",
   "execution_count": 5,
   "id": "7d82ae81",
   "metadata": {},
   "outputs": [],
   "source": [
    "y = np.array(data[:,2])"
   ]
  },
  {
   "cell_type": "code",
   "execution_count": 6,
   "id": "78162061",
   "metadata": {},
   "outputs": [
    {
     "data": {
      "text/plain": [
       "((300,), 300)"
      ]
     },
     "execution_count": 6,
     "metadata": {},
     "output_type": "execute_result"
    }
   ],
   "source": [
    "y.shape,len(y)"
   ]
  },
  {
   "cell_type": "code",
   "execution_count": 7,
   "id": "102dac4d",
   "metadata": {},
   "outputs": [],
   "source": [
    "def Information_matrix(X):\n",
    "    N = len(X)\n",
    "    A=np.column_stack((np.ones([N,]),X))\n",
    "    return A"
   ]
  },
  {
   "cell_type": "code",
   "execution_count": 8,
   "id": "f17ce91a",
   "metadata": {},
   "outputs": [],
   "source": [
    "def Source_matrix(y):\n",
    "    N = len(y)\n",
    "    allclasses = np.unique(y)\n",
    "    B = np.zeros((N,len(allclasses)))\n",
    "    for i in range(N):\n",
    "        class_value = int(y[i])\n",
    "        B[i][class_value] = 1\n",
    "    return B"
   ]
  },
  {
   "cell_type": "code",
   "execution_count": 55,
   "id": "971d621f",
   "metadata": {},
   "outputs": [],
   "source": [
    "def calculate_W(A,B):\n",
    "    #W = np.zeros((A.shape[1],B.shape[1]))\n",
    "    At_A = A.transpose() @ A\n",
    "    At_B = A.transpose() @ B\n",
    "    \n",
    "    W = np.linalg.solve(At_A,At_B)\n",
    "    \n",
    "    return W\n",
    "\n",
    "def calculate_W_by_svd(A,B):\n",
    "    # Perform SVD of A\n",
    "    u,s,vh = np.linalg.svd(A)\n",
    "    \n",
    "    # Find rank of A\n",
    "    K = max(A.shape[0], A.shape[1])\n",
    "    r = 0;\n",
    "    while( r < A.shape[1] and abs(s[r]) >= abs(K*1e-6*s[0]) ):\n",
    "        r = r+1;\n",
    "    \n",
    "    # Find least square solution\n",
    "    v = vh.transpose()\n",
    "    W = np.zeros((A.shape[1], A.shape[1]))\n",
    "    for i in range(r):\n",
    "        tmp = ((u[:,i].transpose() @ B)/s[i])\n",
    "        for j in range(A.shape[1]):\n",
    "            W[:,j] += tmp[j] * v[:,i] \n",
    "    \n",
    "    return W"
   ]
  },
  {
   "cell_type": "code",
   "execution_count": 10,
   "id": "ed79bace",
   "metadata": {},
   "outputs": [],
   "source": [
    "A=Information_matrix(X)"
   ]
  },
  {
   "cell_type": "code",
   "execution_count": 11,
   "id": "cd714d75",
   "metadata": {},
   "outputs": [],
   "source": [
    "B=Source_matrix(y)"
   ]
  },
  {
   "cell_type": "code",
   "execution_count": 12,
   "id": "14c2665e",
   "metadata": {},
   "outputs": [
    {
     "data": {
      "text/plain": [
       "(3, 3, 300, array([ 1.        , -0.00477005, -0.92248899]))"
      ]
     },
     "execution_count": 12,
     "metadata": {},
     "output_type": "execute_result"
    }
   ],
   "source": [
    "A.shape[1],B.shape[1],len(A),A[1]"
   ]
  },
  {
   "cell_type": "code",
   "execution_count": 44,
   "id": "ee4f4a5a",
   "metadata": {},
   "outputs": [
    {
     "data": {
      "text/plain": [
       "array([[0., 0., 0.],\n",
       "       [0., 0., 0.],\n",
       "       [0., 0., 0.]])"
      ]
     },
     "execution_count": 44,
     "metadata": {},
     "output_type": "execute_result"
    }
   ],
   "source": [
    "W = np.zeros((A.shape[1],B.shape[1]))\n",
    "W"
   ]
  },
  {
   "cell_type": "code",
   "execution_count": 56,
   "id": "f8944619",
   "metadata": {},
   "outputs": [
    {
     "name": "stdout",
     "output_type": "stream",
     "text": [
      "[[ 0.7939392   0.06167975  0.14438105]\n",
      " [-0.11799901  0.13256622 -0.01456721]\n",
      " [-0.08039742 -0.09822287  0.17862029]]\n",
      "[[ 0.7939392   0.06167975  0.14438105]\n",
      " [-0.11799901  0.13256622 -0.01456721]\n",
      " [-0.08039742 -0.09822287  0.17862029]]\n"
     ]
    }
   ],
   "source": [
    "w = calculate_W(A,B)\n",
    "print(w)\n",
    "w = calculate_W_by_svd(A,B)\n",
    "print(w)"
   ]
  },
  {
   "cell_type": "code",
   "execution_count": 15,
   "id": "1f48ab72",
   "metadata": {},
   "outputs": [],
   "source": [
    "def predict(X,W):\n",
    "    A = Information_matrix(X)\n",
    "    B_pred = A @ W\n",
    "    print(B_pred.shape)\n",
    "    print(B_pred[0])\n",
    "    N = len(B_pred)\n",
    "    y_pred = np.zeros(N)\n",
    "    for i in range(N):\n",
    "        c = np.argmax(B_pred[i])\n",
    "        y_pred[i] = c\n",
    "    return y_pred"
   ]
  },
  {
   "cell_type": "code",
   "execution_count": 16,
   "id": "9bc19d74",
   "metadata": {},
   "outputs": [
    {
     "name": "stdout",
     "output_type": "stream",
     "text": [
      "(300, 3)\n",
      "[ 0.82265429  0.19198223 -0.01463652]\n"
     ]
    },
    {
     "data": {
      "text/plain": [
       "array([0., 0., 0., 0., 0., 0., 0., 0., 0., 0., 0., 0., 0., 0., 0., 0., 0.,\n",
       "       0., 0., 0., 0., 0., 0., 0., 0., 0., 0., 0., 0., 0., 0., 0., 0., 0.,\n",
       "       0., 0., 0., 0., 0., 0., 0., 0., 0., 0., 0., 0., 0., 0., 0., 0., 0.,\n",
       "       0., 0., 0., 0., 0., 0., 0., 0., 0., 0., 0., 0., 0., 0., 0., 0., 0.,\n",
       "       0., 0., 0., 0., 0., 0., 0., 0., 0., 0., 0., 0., 0., 0., 0., 0., 0.,\n",
       "       0., 0., 0., 0., 0., 0., 0., 0., 0., 0., 0., 0., 0., 0., 0., 1., 1.,\n",
       "       1., 1., 1., 1., 1., 1., 1., 1., 1., 1., 1., 1., 1., 0., 1., 1., 1.,\n",
       "       1., 1., 1., 1., 1., 1., 1., 1., 1., 0., 1., 1., 1., 1., 1., 1., 1.,\n",
       "       2., 1., 1., 1., 1., 1., 1., 1., 1., 1., 1., 1., 1., 1., 1., 1., 1.,\n",
       "       1., 0., 1., 1., 1., 1., 1., 1., 1., 1., 1., 1., 1., 1., 1., 1., 1.,\n",
       "       1., 1., 1., 1., 1., 1., 1., 1., 1., 1., 1., 1., 1., 1., 1., 1., 1.,\n",
       "       0., 1., 1., 1., 1., 1., 1., 1., 1., 1., 1., 1., 1., 2., 2., 2., 2.,\n",
       "       2., 2., 2., 2., 2., 2., 2., 2., 2., 2., 2., 2., 2., 2., 2., 2., 2.,\n",
       "       2., 2., 2., 2., 2., 2., 2., 2., 2., 2., 2., 2., 2., 2., 2., 2., 2.,\n",
       "       2., 2., 2., 2., 2., 2., 2., 2., 2., 2., 2., 2., 2., 2., 2., 2., 2.,\n",
       "       2., 2., 2., 2., 1., 2., 2., 2., 2., 2., 2., 2., 2., 2., 2., 2., 2.,\n",
       "       1., 2., 2., 2., 2., 2., 2., 2., 2., 2., 2., 2., 2., 2., 2., 2., 2.,\n",
       "       2., 2., 2., 2., 2., 2., 2., 2., 2., 2., 2.])"
      ]
     },
     "execution_count": 16,
     "metadata": {},
     "output_type": "execute_result"
    }
   ],
   "source": [
    "y_pred = predict(X,w)\n",
    "y_pred"
   ]
  },
  {
   "cell_type": "code",
   "execution_count": 17,
   "id": "77b6ced4",
   "metadata": {},
   "outputs": [],
   "source": [
    "class Performance():\n",
    "    \n",
    "    def __init__(self,y_test,y_pred,allclasses):\n",
    "        self.y_test=y_test\n",
    "        self.y_pred=y_pred\n",
    "        self.allclasses=allclasses\n",
    "    \n",
    "    \n",
    "    def confusion_matrix(self):\n",
    "        confusion_matrix = np.zeros((len(self.allclasses),len(self.allclasses)))\n",
    "        for i in zip(self.y_test,self.y_pred):\n",
    "            confusion_matrix[int(i[0]),int(i[1])]+=1\n",
    "        return confusion_matrix\n",
    "    \n",
    "    def accuracy(self):\n",
    "        cm = self.confusion_matrix()\n",
    "        accuracy = np.trace(cm)/np.sum(cm)\n",
    "        return accuracy\n",
    "        "
   ]
  },
  {
   "cell_type": "code",
   "execution_count": 18,
   "id": "b64be4a9",
   "metadata": {},
   "outputs": [
    {
     "data": {
      "text/plain": [
       "(0.9766666666666667,\n",
       " array([[100.,   0.,   0.],\n",
       "        [  4.,  95.,   1.],\n",
       "        [  0.,   2.,  98.]]))"
      ]
     },
     "execution_count": 18,
     "metadata": {},
     "output_type": "execute_result"
    }
   ],
   "source": [
    "allclasses = np.unique(y)\n",
    "mCless_performance = Performance(y,y_pred,allclasses)\n",
    "accuracy = mCless_performance.accuracy()\n",
    "cm = mCless_performance.confusion_matrix()\n",
    "accuracy,cm"
   ]
  },
  {
   "cell_type": "code",
   "execution_count": 19,
   "id": "9a3a85bb",
   "metadata": {},
   "outputs": [
    {
     "data": {
      "text/plain": [
       "95.0"
      ]
     },
     "execution_count": 19,
     "metadata": {},
     "output_type": "execute_result"
    }
   ],
   "source": [
    "c = np.amax(np.abs(cm[1]))\n",
    "c"
   ]
  },
  {
   "cell_type": "code",
   "execution_count": 20,
   "id": "86bf6c98",
   "metadata": {},
   "outputs": [],
   "source": [
    "def scale_factor(X):\n",
    "\n",
    "    X = X.transpose()\n",
    "    scale = np.zeros((len(X)))\n",
    "    for i in range(len(X)):\n",
    "        row = X[i]\n",
    "        scale[i] = np.amax(np.abs(row))\n",
    "    return scale"
   ]
  },
  {
   "cell_type": "code",
   "execution_count": 21,
   "id": "7a8fb8f2",
   "metadata": {},
   "outputs": [],
   "source": [
    "a = np.array([[1.0,-10.0,-3.0,4.0],[5.0,6.0,7.0,-8.0],[9.0,10.0,11.0,-12.0]])"
   ]
  },
  {
   "cell_type": "code",
   "execution_count": 22,
   "id": "53475f66",
   "metadata": {},
   "outputs": [
    {
     "data": {
      "text/plain": [
       "array([[  1., -10.,  -3.,   4.],\n",
       "       [  5.,   6.,   7.,  -8.],\n",
       "       [  9.,  10.,  11., -12.]])"
      ]
     },
     "execution_count": 22,
     "metadata": {},
     "output_type": "execute_result"
    }
   ],
   "source": [
    "a"
   ]
  },
  {
   "cell_type": "code",
   "execution_count": null,
   "id": "2911edad",
   "metadata": {},
   "outputs": [],
   "source": []
  },
  {
   "cell_type": "code",
   "execution_count": 23,
   "id": "b15e8cef",
   "metadata": {},
   "outputs": [
    {
     "data": {
      "text/plain": [
       "array([ 9., 10., 11., 12.])"
      ]
     },
     "execution_count": 23,
     "metadata": {},
     "output_type": "execute_result"
    }
   ],
   "source": [
    "scale= scale_factor(a)\n",
    "scale"
   ]
  },
  {
   "cell_type": "code",
   "execution_count": 24,
   "id": "3b4020e2",
   "metadata": {},
   "outputs": [
    {
     "data": {
      "text/plain": [
       "array([  9., -90., -27.,  36.])"
      ]
     },
     "execution_count": 24,
     "metadata": {},
     "output_type": "execute_result"
    }
   ],
   "source": [
    "scaled_a = scale[0]*a[0]\n",
    "scaled_a"
   ]
  },
  {
   "cell_type": "code",
   "execution_count": 25,
   "id": "0822fb3a",
   "metadata": {},
   "outputs": [
    {
     "data": {
      "text/plain": [
       "array([[0., 0., 0., 0.],\n",
       "       [0., 0., 0., 0.],\n",
       "       [0., 0., 0., 0.]])"
      ]
     },
     "execution_count": 25,
     "metadata": {},
     "output_type": "execute_result"
    }
   ],
   "source": [
    "np.zeros(a.shape)"
   ]
  },
  {
   "cell_type": "code",
   "execution_count": 26,
   "id": "965c5b47",
   "metadata": {},
   "outputs": [],
   "source": [
    "def scale_data(X,scale):\n",
    "    \n",
    "    X= X.transpose()\n",
    "    scaled_X = np.zeros((X.shape))\n",
    "    \n",
    "    for i in range(len(X)):\n",
    "        row = X[i]\n",
    "        scaled_X[i] = X[i]/scale[i]\n",
    "    \n",
    "    return scaled_X.transpose()"
   ]
  },
  {
   "cell_type": "code",
   "execution_count": 27,
   "id": "17ca4c34",
   "metadata": {},
   "outputs": [
    {
     "data": {
      "text/plain": [
       "array([[ 0.11111111, -1.        , -0.27272727,  0.33333333],\n",
       "       [ 0.55555556,  0.6       ,  0.63636364, -0.66666667],\n",
       "       [ 1.        ,  1.        ,  1.        , -1.        ]])"
      ]
     },
     "execution_count": 27,
     "metadata": {},
     "output_type": "execute_result"
    }
   ],
   "source": [
    "scaled_A = scale_data(a,scale)\n",
    "scaled_A"
   ]
  },
  {
   "cell_type": "code",
   "execution_count": 86,
   "id": "0a5a66f3",
   "metadata": {},
   "outputs": [],
   "source": [
    "def split_data(data, splitThreshold=0.3):\n",
    "    \n",
    "    rows = data.shape[0]\n",
    "    cols = data.shape[1]\n",
    "    \n",
    "    train_size= int(rows - rows*splitThreshold)\n",
    "    test_size = int(rows - train_size)\n",
    "    \n",
    "    data_train = np.zeros((train_size,cols))\n",
    "    data_test = np.zeros((test_size,cols))\n",
    "    \n",
    "    #shuffled_idx = np.empty((rows), dtype='int')\n",
    "    #for i in range(rows):\n",
    "    #    shuffled_idx[i] = i\n",
    "    #np.random.permutation(shuffled_idx)\n",
    "    shuffled_data = np.random.permutation(data)\n",
    "    X_train = shuffled_data[0:train_size, 0:cols-1]\n",
    "    X_test = shuffled_data[train_size:, 0:cols-1]\n",
    "    y_train = shuffled_data[0:train_size, cols-1]\n",
    "    y_test = shuffled_data[train_size:, cols-1]\n",
    "    \n",
    "    #X_train = data[shuffled_idx[0:train_size], 0:cols-1]\n",
    "    #X_test = data[shuffled_idx[train_size:], 0:cols-1]\n",
    "    #y_train = data[shuffled_idx[0:train_size], cols-1]\n",
    "    #y_test = data[shuffled_idx[train_size:], cols-1]\n",
    "    \n",
    "    return X_train,X_test,y_train,y_test"
   ]
  },
  {
   "cell_type": "code",
   "execution_count": 88,
   "id": "09776d0b",
   "metadata": {},
   "outputs": [
    {
     "name": "stdout",
     "output_type": "stream",
     "text": [
      "[2. 0. 2. 0. 2. 1. 1. 0. 2. 0. 2. 0. 2. 0. 2. 2. 1. 0. 1. 1. 0. 0. 0. 0.\n",
      " 1. 0. 2. 2. 2. 1. 2. 0. 0. 2. 2. 1. 1. 0. 0. 1. 2. 1. 2. 0. 1. 1. 0. 1.\n",
      " 2. 2. 1. 2. 1. 2. 0. 0. 2. 1. 0. 1. 1. 0. 2. 1. 0. 2. 0. 2. 0. 0. 2. 2.\n",
      " 0. 2. 1. 2. 1. 2. 0. 1. 1. 2. 1. 0. 0. 1. 2. 1. 2. 0.]\n"
     ]
    },
    {
     "data": {
      "text/plain": [
       "(90,)"
      ]
     },
     "execution_count": 88,
     "metadata": {},
     "output_type": "execute_result"
    }
   ],
   "source": [
    "X_tr,X_tst,y_tr,y_tst = split_data(data)\n",
    "print(y_tst)\n",
    "y_tst.shape"
   ]
  },
  {
   "cell_type": "code",
   "execution_count": 83,
   "id": "0903acd2",
   "metadata": {},
   "outputs": [],
   "source": [
    "from  mcless import *"
   ]
  },
  {
   "cell_type": "code",
   "execution_count": 74,
   "id": "fd3f6186",
   "metadata": {},
   "outputs": [
    {
     "ename": "NameError",
     "evalue": "name 'Information_matrix1' is not defined",
     "output_type": "error",
     "traceback": [
      "\u001b[1;31m---------------------------------------------------------------------------\u001b[0m",
      "\u001b[1;31mNameError\u001b[0m                                 Traceback (most recent call last)",
      "\u001b[1;32m~\\AppData\\Local\\Temp/ipykernel_8840/793748204.py\u001b[0m in \u001b[0;36m<module>\u001b[1;34m\u001b[0m\n\u001b[1;32m----> 1\u001b[1;33m \u001b[0mInformation_matrix1\u001b[0m\u001b[1;33m(\u001b[0m\u001b[0mX\u001b[0m\u001b[1;33m)\u001b[0m\u001b[1;33m\u001b[0m\u001b[1;33m\u001b[0m\u001b[0m\n\u001b[0m",
      "\u001b[1;31mNameError\u001b[0m: name 'Information_matrix1' is not defined"
     ]
    }
   ],
   "source": [
    "Information_matrix1(X)"
   ]
  },
  {
   "cell_type": "code",
   "execution_count": null,
   "id": "1b5336ca",
   "metadata": {},
   "outputs": [],
   "source": [
    "\n",
    "    "
   ]
  }
 ],
 "metadata": {
  "kernelspec": {
   "display_name": "Python 3 (ipykernel)",
   "language": "python",
   "name": "python3"
  },
  "language_info": {
   "codemirror_mode": {
    "name": "ipython",
    "version": 3
   },
   "file_extension": ".py",
   "mimetype": "text/x-python",
   "name": "python",
   "nbconvert_exporter": "python",
   "pygments_lexer": "ipython3",
   "version": "3.9.7"
  }
 },
 "nbformat": 4,
 "nbformat_minor": 5
}
