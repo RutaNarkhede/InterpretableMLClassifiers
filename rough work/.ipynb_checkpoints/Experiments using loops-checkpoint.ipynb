{
 "cells": [
  {
   "cell_type": "code",
   "execution_count": 11,
   "id": "930c1064",
   "metadata": {},
   "outputs": [],
   "source": [
    "from mcless import *\n",
    "import numpy as np\n",
    "from sklearn.model_selection import train_test_split\n",
    "from sklearn.datasets import load_iris\n",
    "from sklearn.datasets import load_wine\n",
    "import matplotlib.pyplot as plt\n",
    "from sklearn.linear_model import LogisticRegression\n",
    "from sklearn.neighbors import KNeighborsClassifier\n",
    "from sklearn.svm import SVC\n",
    "from sklearn.ensemble import RandomForestClassifier\n",
    "import time\n"
   ]
  },
  {
   "cell_type": "code",
   "execution_count": 2,
   "id": "f869b764",
   "metadata": {},
   "outputs": [],
   "source": [
    "data1 = np.loadtxt('data/synthetic1.data', delimiter=',')\n",
    "X1= data1[:,0:2]\n",
    "y1=data1[:,2]\n",
    "\n",
    "data2= np.loadtxt('data/synthetic2.data', delimiter=',')\n",
    "X2= data2[:,0:2]\n",
    "y2=data2[:,2]\n",
    "\n",
    "data3 = load_iris()\n",
    "X3 = data3.data\n",
    "y3 = data3.target\n",
    "\n",
    "data4 = load_wine()\n",
    "X4 = data4.data\n",
    "y4 = data4.target"
   ]
  },
  {
   "cell_type": "code",
   "execution_count": 22,
   "id": "b5ce2769",
   "metadata": {},
   "outputs": [],
   "source": [
    "def scale_factor(X):\n",
    "    X = X.transpose()\n",
    "    scale = np.zeros((len(X)))\n",
    "    for i in range(len(X)):\n",
    "        row = X[i]\n",
    "        scale[i] = np.amax(np.abs(row))\n",
    "    return scale\n",
    "\n",
    "def scale_data(X,scale):\n",
    "    X= X.transpose()\n",
    "    scaled_X = np.zeros((X.shape))\n",
    "    \n",
    "    for i in range(len(X)):\n",
    "        row = X[i]\n",
    "        scaled_X[i] = X[i]/scale[i]\n",
    "    \n",
    "    return scaled_X.transpose()"
   ]
  },
  {
   "cell_type": "code",
   "execution_count": 9,
   "id": "81661cef",
   "metadata": {},
   "outputs": [],
   "source": [
    "classifiers = [LogisticRegression(max_iter = 1000),KNeighborsClassifier(5),SVC(kernel=\"rbf\",gamma=2, C=1),\n",
    "               RandomForestClassifier(max_depth=5, n_estimators=50, max_features=1)]"
   ]
  },
  {
   "cell_type": "code",
   "execution_count": 10,
   "id": "46238aee",
   "metadata": {},
   "outputs": [],
   "source": [
    "names = [\n",
    "\"Logistic Regr\",\n",
    "\"KNeighbors-5 \",\n",
    "\"RBF SVM \",\n",
    "\"Random Forest\"]"
   ]
  },
  {
   "cell_type": "code",
   "execution_count": 12,
   "id": "a56f5acb",
   "metadata": {},
   "outputs": [
    {
     "name": "stdout",
     "output_type": "stream",
     "text": [
      "N,d,nclass= 300 2 3\n"
     ]
    }
   ],
   "source": [
    "N,d = X1.shape; labelset=set(y1)\n",
    "nclass=len(labelset);\n",
    "print('N,d,nclass=',N,d,nclass)\n",
    "\n",
    "rtrain = 0.7e0; run = 100\n",
    "rtest = 1-rtrain"
   ]
  },
  {
   "cell_type": "code",
   "execution_count": 14,
   "id": "fa42b9e8",
   "metadata": {},
   "outputs": [],
   "source": [
    "dataname = \"Synthetic data 1\""
   ]
  },
  {
   "cell_type": "code",
   "execution_count": 15,
   "id": "c1885f3e",
   "metadata": {},
   "outputs": [
    {
     "name": "stdout",
     "output_type": "stream",
     "text": [
      "Synthetic data 1: Logistic Regr: Acc.(mean,std) = (96.58,1.84)%; E-time= 0.01040\n",
      "Synthetic data 1: KNeighbors-5 : Acc.(mean,std) = (95.67,1.80)%; E-time= 0.00757\n",
      "Synthetic data 1: RBF SVM : Acc.(mean,std) = (94.85,2.03)%; E-time= 0.00958\n",
      "Synthetic data 1: Random Forest: Acc.(mean,std) = (95.63,2.24)%; E-time= 0.12409\n",
      "sklearn classifiers max: Logistic Regr= 96.58\n"
     ]
    }
   ],
   "source": [
    "acc_max=0\n",
    "for name, clf in zip(names, classifiers):\n",
    "    Acc = np.zeros([run,1])\n",
    "    btime = time.time()\n",
    "\n",
    "    for it in range(run):\n",
    "        Xtrain, Xtest, ytrain, ytest = train_test_split(X1, y1, test_size=rtest, random_state=it, stratify = y1)\n",
    "\n",
    "        clf.fit(Xtrain, ytrain);\n",
    "        Acc[it] = clf.score(Xtest, ytest)\n",
    "\n",
    "    etime = time.time()-btime\n",
    "    accmean = np.mean(Acc)*100\n",
    "    print('%s: %s: Acc.(mean,std) = (%.2f,%.2f)%%; E-time= %.5f'%(dataname,name,accmean,np.std(Acc)*100,etime/run))\n",
    "    if accmean>acc_max:\n",
    "        acc_max= accmean; algname = name\n",
    "print('sklearn classifiers max: %s= %.2f' %(algname,acc_max))"
   ]
  },
  {
   "cell_type": "code",
   "execution_count": 20,
   "id": "285073c4",
   "metadata": {},
   "outputs": [],
   "source": [
    "data_X = [X1,X2,X3,X4]\n",
    "data_y = [y1,y2,y3,y4]\n",
    "data_names = [\"Synthetic Data 1\",\"Synthetic Data 2\",\"Iris Data\",\"Wine Data\"]"
   ]
  },
  {
   "cell_type": "code",
   "execution_count": 23,
   "id": "d58aec85",
   "metadata": {},
   "outputs": [
    {
     "name": "stdout",
     "output_type": "stream",
     "text": [
      "Synthetic Data 1: Logistic Regr: Acc.(mean,std) = (96.99,1.71)%; E-time= 0.00843\n",
      "Synthetic Data 1: KNeighbors-5 : Acc.(mean,std) = (95.81,1.96)%; E-time= 0.00754\n",
      "Synthetic Data 1: RBF SVM : Acc.(mean,std) = (96.64,1.69)%; E-time= 0.00538\n",
      "Synthetic Data 1: Random Forest: Acc.(mean,std) = (95.44,2.31)%; E-time= 0.12490\n",
      "sklearn classifiers max: Logistic Regr= 96.99\n",
      "\n",
      "\n",
      "Synthetic Data 2: Logistic Regr: Acc.(mean,std) = (94.12,2.07)%; E-time= 0.01001\n",
      "Synthetic Data 2: KNeighbors-5 : Acc.(mean,std) = (93.96,2.24)%; E-time= 0.00869\n",
      "Synthetic Data 2: RBF SVM : Acc.(mean,std) = (94.64,2.18)%; E-time= 0.00682\n",
      "Synthetic Data 2: Random Forest: Acc.(mean,std) = (95.15,2.09)%; E-time= 0.13365\n",
      "sklearn classifiers max: Random Forest= 95.15\n",
      "\n",
      "\n",
      "Iris Data: Logistic Regr: Acc.(mean,std) = (93.48,3.01)%; E-time= 0.01215\n",
      "Iris Data: KNeighbors-5 : Acc.(mean,std) = (95.76,2.31)%; E-time= 0.00544\n",
      "Iris Data: RBF SVM : Acc.(mean,std) = (95.87,2.37)%; E-time= 0.00554\n",
      "Iris Data: Random Forest: Acc.(mean,std) = (95.09,2.79)%; E-time= 0.12385\n",
      "sklearn classifiers max: RBF SVM = 95.87\n",
      "\n",
      "\n",
      "Wine Data: Logistic Regr: Acc.(mean,std) = (95.98,2.39)%; E-time= 0.02003\n",
      "Wine Data: KNeighbors-5 : Acc.(mean,std) = (95.07,2.50)%; E-time= 0.00599\n",
      "Wine Data: RBF SVM : Acc.(mean,std) = (98.37,1.70)%; E-time= 0.00465\n",
      "Wine Data: Random Forest: Acc.(mean,std) = (98.33,1.84)%; E-time= 0.12620\n",
      "sklearn classifiers max: RBF SVM = 98.37\n",
      "\n",
      "\n"
     ]
    }
   ],
   "source": [
    "for X,y,dataname in zip(data_X,data_y,data_names):\n",
    "    acc_max=0\n",
    "    for name, clf in zip(names, classifiers):\n",
    "        Acc = np.zeros([run,1])\n",
    "        btime = time.time()\n",
    "        \n",
    "        \n",
    "\n",
    "        for it in range(run):\n",
    "            Xtrain, Xtest, ytrain, ytest = train_test_split(X, y, test_size=rtest, random_state=it, stratify = y)\n",
    "            scale = scale_factor(Xtrain)\n",
    "            Xtrain_scaled = scale_data(Xtrain,scale)\n",
    "            Xtest_scaled = scale_data(Xtest,scale)\n",
    "\n",
    "            clf.fit(Xtrain_scaled, ytrain);\n",
    "            Acc[it] = clf.score(Xtest_scaled, ytest)\n",
    "\n",
    "        etime = time.time()-btime\n",
    "        accmean = np.mean(Acc)*100\n",
    "        print('%s: %s: Acc.(mean,std) = (%.2f,%.2f)%%; E-time= %.5f'%(dataname,name,accmean,np.std(Acc)*100,etime/run))\n",
    "        if accmean>acc_max:\n",
    "            acc_max= accmean; algname = name\n",
    "    print('sklearn classifiers max: %s= %.2f' %(algname,acc_max))\n",
    "    print(\"\\n\")"
   ]
  },
  {
   "cell_type": "code",
   "execution_count": null,
   "id": "77dca89e",
   "metadata": {},
   "outputs": [],
   "source": []
  }
 ],
 "metadata": {
  "kernelspec": {
   "display_name": "Python 3 (ipykernel)",
   "language": "python",
   "name": "python3"
  },
  "language_info": {
   "codemirror_mode": {
    "name": "ipython",
    "version": 3
   },
   "file_extension": ".py",
   "mimetype": "text/x-python",
   "name": "python",
   "nbconvert_exporter": "python",
   "pygments_lexer": "ipython3",
   "version": "3.9.7"
  }
 },
 "nbformat": 4,
 "nbformat_minor": 5
}
