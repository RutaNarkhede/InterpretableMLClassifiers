{
 "cells": [
  {
   "cell_type": "code",
   "execution_count": 2,
   "id": "1eacd968",
   "metadata": {},
   "outputs": [],
   "source": [
    "import numpy as np\n",
    "import matplotlib.pyplot as plt\n",
    "\n",
    "N_D1 = 100\n",
    "FORMAT = '%.3f','%.3f','%d'\n",
    "\n",
    "SCALE = [[1,1],[1,2],[1.5,1]]; TRANS = [[0,0],[6,0],[3,4]]\n",
    "#SCALE = [[1,1],[1,1],[1,1]]; TRANS = [[0,0],[4,0],[8,0]]\n",
    "THETA = [0,-0.25*np.pi, 0]\n",
    "COLOR = ['r','b','c']\n",
    "MARKER = ['.','s','+','*']\n",
    "LINESTYLE = [['r--','r-'],['b--','b-'],['c--','c-']]\n",
    "\n",
    "N_CLASS = len(SCALE)\n",
    "\n",
    "DAT_FILENAME = 'synthetic1.data'\n",
    "FIG_FILENAME = 'synthetic1-data.png'\n",
    "FIG_INTERPRET = 'synthetic1-data-interpret.png'\n",
    "\n",
    "def myfigsave(figname):\n",
    "    plt.savefig(figname,bbox_inches='tight')\n",
    "    print(' saved: %s' %(figname))"
   ]
  },
  {
   "cell_type": "code",
   "execution_count": null,
   "id": "885d4e66",
   "metadata": {},
   "outputs": [],
   "source": []
  }
 ],
 "metadata": {
  "kernelspec": {
   "display_name": "Python 3 (ipykernel)",
   "language": "python",
   "name": "python3"
  },
  "language_info": {
   "codemirror_mode": {
    "name": "ipython",
    "version": 3
   },
   "file_extension": ".py",
   "mimetype": "text/x-python",
   "name": "python",
   "nbconvert_exporter": "python",
   "pygments_lexer": "ipython3",
   "version": "3.9.7"
  }
 },
 "nbformat": 4,
 "nbformat_minor": 5
}
